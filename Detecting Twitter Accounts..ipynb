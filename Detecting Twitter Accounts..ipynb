{
 "cells": [
  {
   "cell_type": "markdown",
   "id": "aefd463b",
   "metadata": {},
   "source": [
    "# Detecting Twitter Accounts: Are You a Humanm or bot ?"
   ]
  },
  {
   "cell_type": "markdown",
   "id": "6176c63b",
   "metadata": {},
   "source": [
    "Project in data science as part of a Bs.c computer science at The Open University Of Israel by Orly Sokolov & Yulia Balanovsky.\n",
    "למה לקחנו את הפרויקט הזה? התחיל מהפייק ניוז על המלחמה של אוקראינה ורוסיה והחלטנו לחקור את הנושא.\n",
    "\n",
    "## Table of Contents \n",
    "\n",
    "    - Intro\n",
    "    - Data collection\n",
    "    - EDA\n"
   ]
  },
  {
   "cell_type": "markdown",
   "id": "57f11e01",
   "metadata": {},
   "source": [
    "## Intro"
   ]
  },
  {
   "cell_type": "markdown",
   "id": "c7cc9d2a",
   "metadata": {},
   "source": [
    "Social media are powerful tools connecting millions of people across the globe. These connections form the substrate\n",
    "that supports information dissemination, which ultimately affects the ideas, news, and opinions to which we are exposed.\n",
    "\n",
    "**Twitter** is one of the most popular social media platforms where millions of daily active Twitter users using the platform. Twitter is also free to use and easy to access, which encourages individuals as well as organizations to view and publish contents of interests. \n",
    "\n",
    "### The problem\n",
    "Besides being used by genuine users, Twitter is home to an ample amount of automated programs, which are also known as Twitter bots. Some Twitter bots exploit Twitter features to pursue malicious goals such as election interference and extreme propaganda. Twitter bots co-exist with human users on Twitter and they hide their automated nature by imitating genuine users. Since identifying bots in social media is crucial to preserving the integrity of the online discourse and these proposals are generally supervised, many research efforts have been devoted to the creation of relevant datasets.\n",
    "\n",
    "![This is an image](https://botwiki.org/wp-content/uploads/2018/02/TheRiddlerBot.png)"
   ]
  },
  {
   "cell_type": "markdown",
   "id": "7cd8100c",
   "metadata": {},
   "source": [
    "### what bot is? witch kind bots are exists ? bot behavior ?\n",
    "\n",
    "A Twitter bot is a type of bot software that controls a Twitter account via the Twitter API.[1] The bot software may autonomously perform actions such as tweeting, re-tweeting, liking, following, unfollowing, or direct messaging other accounts. The automation of Twitter accounts is governed by a set of automation rules that outline proper and improper uses of automation.\n",
    "In 2009, Twitter bots were estimated to create approximately 24% of tweets on Twitter.\n",
    "\n",
    "Twitter bots, also known as zombies, are automated Twitter accounts controlled by bot software. While they are programmed to perform tasks that resemble those of everyday Twitter users — such as liking tweets and following other users — their purpose is to tweet and retweet content for specific goals on a large scale.\n",
    "\n",
    "The purpose of the bot and its activity can be helpful or harmful.\n",
    "\n",
    "Twitter bots can be used for helpful purposes, such as broadcasting important content like weather emergencies in real time, sharing informative content en masse, and generating automatic replies via direct messaging.\n",
    "\n",
    "Twitter bots also can be designed for the malicious purposes of platform intimidation and manipulation — like spreading fake news campaigns, spamming, violating others’ privacy, and sock-puppeting.\n",
    "\n",
    "You might wonder if one account can cause damage. It usually takes a larger effort. Twitter bots are often part of what’s known as a botnet. A botnet is a broad network of automated accounts that work together to appear legitimate, liking and following each other as if they were real. Worth noting: Bots also operate on other social media platforms.\n",
    "\n"
   ]
  },
  {
   "cell_type": "markdown",
   "id": "4dfe1472",
   "metadata": {},
   "source": [
    "#  DATA COLLECTION"
   ]
  },
  {
   "cell_type": "markdown",
   "id": "5cd445fa",
   "metadata": {},
   "source": [
    "We first took a collection of over 30K accounts [Kaggle Database - Twitter Bots Accounts](https://www.kaggle.com/datasets/davidmartngutirrez/twitter-bots-accounts), and with external script[put git code] we drew information of twitter id's of all acouunts.\n",
    "Then we connected to Twitter APi.........(orly)\n",
    "\n",
    "After we scraped out data with the external script we saved the data to csv.\n",
    "Then we observe the difference among human and bot in terms of tweeting behavior, tweet content, and account properties. \n",
    "Based on the measurement results, we propose a classification system that includes the following four parts:\n",
    "1) an entropy-based component, \n",
    "2) a spam detection component, \n",
    "3) an account properties component, \n",
    "4) a decision maker. \n",
    "It uses the combination of features extracted from an unknown user to determine the likelihood of being a human or bot. \n",
    "Our experimental evaluation demonstrates the efficacy of the proposed classification system."
   ]
  },
  {
   "cell_type": "markdown",
   "id": "e00a6a07",
   "metadata": {},
   "source": [
    "# EDA"
   ]
  },
  {
   "cell_type": "markdown",
   "id": "792630a0",
   "metadata": {},
   "source": [
    "Specifically, we treat users on the Twittersphere as nodes and\n",
    "their follow relationship as edges to form a directed graph."
   ]
  },
  {
   "cell_type": "code",
   "execution_count": null,
   "id": "65b4a3cb",
   "metadata": {},
   "outputs": [],
   "source": []
  }
 ],
 "metadata": {
  "kernelspec": {
   "display_name": "Python 3 (ipykernel)",
   "language": "python",
   "name": "python3"
  },
  "language_info": {
   "codemirror_mode": {
    "name": "ipython",
    "version": 3
   },
   "file_extension": ".py",
   "mimetype": "text/x-python",
   "name": "python",
   "nbconvert_exporter": "python",
   "pygments_lexer": "ipython3",
   "version": "3.9.7"
  }
 },
 "nbformat": 4,
 "nbformat_minor": 5
}
