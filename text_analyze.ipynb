{
 "cells": [
  {
   "cell_type": "markdown",
   "id": "78f51327",
   "metadata": {},
   "source": [
    "בוטים בד\"כ יעשו ריטוויטים לכן כל מי שיש לו \n",
    "RT\n",
    "ייתכן והוא בוט\n",
    "URL ייתכן וזה בוט גם\n"
   ]
  },
  {
   "cell_type": "code",
   "execution_count": 6,
   "id": "acd990b5",
   "metadata": {},
   "outputs": [],
   "source": [
    "import pandas as pd"
   ]
  },
  {
   "cell_type": "code",
   "execution_count": 7,
   "id": "f736d96e",
   "metadata": {},
   "outputs": [],
   "source": [
    "user_tweets_path = \"twitter_human_bots_dataset/tweets140522.csv\"\n",
    "user_tweet_data = pd.read_csv(user_tweets_path)"
   ]
  },
  {
   "cell_type": "code",
   "execution_count": 9,
   "id": "1e7355b0",
   "metadata": {},
   "outputs": [
    {
     "name": "stdout",
     "output_type": "stream",
     "text": [
      "<class 'pandas.core.series.Series'>\n"
     ]
    },
    {
     "data": {
      "text/plain": [
       "0                                       RT @ScicommTrento\n",
       "1                                       RT @massimosideri\n",
       "2       Giovedì a Genova il direttore scientifico dell...\n",
       "3                                        RT @ProfPrencipe\n",
       "4                                       RT @Daniele_Manca\n",
       "                              ...                        \n",
       "1928    9주년 축하해♥♥♥♥\\r\\n함께해준 인스피릿 언제나 너무고맙고 사랑해요♥♥♥\\r\\n...\n",
       "1929                      인스피릿♥♥\\r\\n다녀오겠습니다 사랑해용♥♥♥ https\n",
       "1930                                  방금 사진을 게시했습니다 https\n",
       "1931                 짱똥 news 데뷔축하해!!♥♥♥♥#신인가수장동우#솔로 https\n",
       "1932                                              O https\n",
       "Name: text, Length: 1933, dtype: object"
      ]
     },
     "execution_count": 9,
     "metadata": {},
     "output_type": "execute_result"
    }
   ],
   "source": [
    "text = user_tweet_data.get(['text'])\n",
    "my_series = text.squeeze()\n",
    "print (type(my_series))\n",
    "my_series.str.replace(r'(:.*$)|(@\\s+)','',regex=True)"
   ]
  },
  {
   "cell_type": "code",
   "execution_count": null,
   "id": "04a2bed1",
   "metadata": {},
   "outputs": [],
   "source": []
  }
 ],
 "metadata": {
  "kernelspec": {
   "display_name": "Python 3 (ipykernel)",
   "language": "python",
   "name": "python3"
  },
  "language_info": {
   "codemirror_mode": {
    "name": "ipython",
    "version": 3
   },
   "file_extension": ".py",
   "mimetype": "text/x-python",
   "name": "python",
   "nbconvert_exporter": "python",
   "pygments_lexer": "ipython3",
   "version": "3.7.9"
  }
 },
 "nbformat": 4,
 "nbformat_minor": 5
}
