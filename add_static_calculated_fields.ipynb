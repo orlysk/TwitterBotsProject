{
 "cells": [
  {
   "cell_type": "code",
   "execution_count": 24,
   "id": "d85c8cbd",
   "metadata": {},
   "outputs": [],
   "source": [
    "import pandas\n",
    "\n",
    "tweets_dataset_path = \"twitter_human_bots_dataset/followers040522.csv\"\n",
    "tweets_dataset = pandas.read_csv(tweets_dataset_path)"
   ]
  },
  {
   "cell_type": "code",
   "execution_count": 29,
   "id": "dee0647f",
   "metadata": {},
   "outputs": [
    {
     "data": {
      "text/plain": [
       "True"
      ]
     },
     "execution_count": 29,
     "metadata": {},
     "output_type": "execute_result"
    }
   ],
   "source": [
    "121389491 in tweets_dataset.followed_id.unique().tolist()"
   ]
  },
  {
   "cell_type": "code",
   "execution_count": 27,
   "id": "64ae761f",
   "metadata": {},
   "outputs": [
    {
     "data": {
      "text/plain": [
       "110"
      ]
     },
     "execution_count": 27,
     "metadata": {},
     "output_type": "execute_result"
    }
   ],
   "source": [
    "len(tweets_dataset.followed_id.unique().tolist())"
   ]
  }
 ],
 "metadata": {
  "kernelspec": {
   "display_name": "Python 3 (ipykernel)",
   "language": "python",
   "name": "python3"
  },
  "language_info": {
   "codemirror_mode": {
    "name": "ipython",
    "version": 3
   },
   "file_extension": ".py",
   "mimetype": "text/x-python",
   "name": "python",
   "nbconvert_exporter": "python",
   "pygments_lexer": "ipython3",
   "version": "3.7.7"
  }
 },
 "nbformat": 4,
 "nbformat_minor": 5
}
